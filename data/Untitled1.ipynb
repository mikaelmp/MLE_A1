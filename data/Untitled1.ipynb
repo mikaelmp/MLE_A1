{
 "cells": [
  {
   "cell_type": "code",
   "execution_count": 1,
   "id": "98fdeadb-de14-4984-bc36-7cbcf8d07ff4",
   "metadata": {},
   "outputs": [],
   "source": [
    "import pandas as pd"
   ]
  },
  {
   "cell_type": "code",
   "execution_count": 2,
   "id": "dbb96d0e-f55b-4e02-bc5b-b85138d3f5cf",
   "metadata": {},
   "outputs": [],
   "source": [
    "df = pd.read_csv('features_attributes.csv')"
   ]
  },
  {
   "cell_type": "code",
   "execution_count": 3,
   "id": "b7167db3-697c-436b-83fe-2eae3f18c131",
   "metadata": {},
   "outputs": [
    {
     "data": {
      "text/html": [
       "<div>\n",
       "<style scoped>\n",
       "    .dataframe tbody tr th:only-of-type {\n",
       "        vertical-align: middle;\n",
       "    }\n",
       "\n",
       "    .dataframe tbody tr th {\n",
       "        vertical-align: top;\n",
       "    }\n",
       "\n",
       "    .dataframe thead th {\n",
       "        text-align: right;\n",
       "    }\n",
       "</style>\n",
       "<table border=\"1\" class=\"dataframe\">\n",
       "  <thead>\n",
       "    <tr style=\"text-align: right;\">\n",
       "      <th></th>\n",
       "      <th>Customer_ID</th>\n",
       "      <th>Name</th>\n",
       "      <th>Age</th>\n",
       "      <th>SSN</th>\n",
       "      <th>Occupation</th>\n",
       "      <th>snapshot_date</th>\n",
       "    </tr>\n",
       "  </thead>\n",
       "  <tbody>\n",
       "    <tr>\n",
       "      <th>0</th>\n",
       "      <td>CUS_0x1000</td>\n",
       "      <td>Alistair Barrf</td>\n",
       "      <td>18</td>\n",
       "      <td>913-74-1218</td>\n",
       "      <td>Lawyer</td>\n",
       "      <td>2023-05-01</td>\n",
       "    </tr>\n",
       "    <tr>\n",
       "      <th>1</th>\n",
       "      <td>CUS_0x1009</td>\n",
       "      <td>Arunah</td>\n",
       "      <td>26</td>\n",
       "      <td>063-67-6938</td>\n",
       "      <td>Mechanic</td>\n",
       "      <td>2025-01-01</td>\n",
       "    </tr>\n",
       "    <tr>\n",
       "      <th>2</th>\n",
       "      <td>CUS_0x100b</td>\n",
       "      <td>Shirboni</td>\n",
       "      <td>19</td>\n",
       "      <td>#F%$D@*&amp;8</td>\n",
       "      <td>Media_Manager</td>\n",
       "      <td>2024-03-01</td>\n",
       "    </tr>\n",
       "    <tr>\n",
       "      <th>3</th>\n",
       "      <td>CUS_0x1011</td>\n",
       "      <td>Schneyerh</td>\n",
       "      <td>44</td>\n",
       "      <td>793-05-8223</td>\n",
       "      <td>Doctor</td>\n",
       "      <td>2023-11-01</td>\n",
       "    </tr>\n",
       "    <tr>\n",
       "      <th>4</th>\n",
       "      <td>CUS_0x1013</td>\n",
       "      <td>Cameront</td>\n",
       "      <td>44</td>\n",
       "      <td>930-49-9615</td>\n",
       "      <td>Mechanic</td>\n",
       "      <td>2023-12-01</td>\n",
       "    </tr>\n",
       "  </tbody>\n",
       "</table>\n",
       "</div>"
      ],
      "text/plain": [
       "  Customer_ID            Name Age          SSN     Occupation snapshot_date\n",
       "0  CUS_0x1000  Alistair Barrf  18  913-74-1218         Lawyer    2023-05-01\n",
       "1  CUS_0x1009          Arunah  26  063-67-6938       Mechanic    2025-01-01\n",
       "2  CUS_0x100b        Shirboni  19    #F%$D@*&8  Media_Manager    2024-03-01\n",
       "3  CUS_0x1011       Schneyerh  44  793-05-8223         Doctor    2023-11-01\n",
       "4  CUS_0x1013        Cameront  44  930-49-9615       Mechanic    2023-12-01"
      ]
     },
     "execution_count": 3,
     "metadata": {},
     "output_type": "execute_result"
    }
   ],
   "source": [
    "df.head()"
   ]
  },
  {
   "cell_type": "code",
   "execution_count": 4,
   "id": "58ec2057-d876-4819-be59-2c6838a14272",
   "metadata": {},
   "outputs": [
    {
     "name": "stdout",
     "output_type": "stream",
     "text": [
      "<class 'pandas.core.frame.DataFrame'>\n",
      "RangeIndex: 12500 entries, 0 to 12499\n",
      "Data columns (total 6 columns):\n",
      " #   Column         Non-Null Count  Dtype \n",
      "---  ------         --------------  ----- \n",
      " 0   Customer_ID    12500 non-null  object\n",
      " 1   Name           12500 non-null  object\n",
      " 2   Age            12500 non-null  object\n",
      " 3   SSN            12500 non-null  object\n",
      " 4   Occupation     12500 non-null  object\n",
      " 5   snapshot_date  12500 non-null  object\n",
      "dtypes: object(6)\n",
      "memory usage: 586.1+ KB\n"
     ]
    }
   ],
   "source": [
    "df.info()"
   ]
  },
  {
   "cell_type": "code",
   "execution_count": 5,
   "id": "36e0c898-af4b-461a-9b77-261ab9ff9a3f",
   "metadata": {},
   "outputs": [
    {
     "data": {
      "text/plain": [
       "True"
      ]
     },
     "execution_count": 5,
     "metadata": {},
     "output_type": "execute_result"
    }
   ],
   "source": [
    "df['Customer_ID'].is_unique"
   ]
  },
  {
   "cell_type": "code",
   "execution_count": 6,
   "id": "626dd085-0f0c-469b-a7e9-708ecc10ffbf",
   "metadata": {},
   "outputs": [],
   "source": [
    "# age\n",
    "# Step 1: Remove underscores from Age column\n",
    "df['Age'] = df['Age'].str.replace('_', '', regex=False)\n",
    "# Step 2: Convert to numeric (integer), coercing errors to NaN\n",
    "df['Age'] = pd.to_numeric(df['Age']).astype('int64')"
   ]
  },
  {
   "cell_type": "code",
   "execution_count": 7,
   "id": "197e5b31-71db-496d-976a-4d814ad7cdf9",
   "metadata": {},
   "outputs": [
    {
     "name": "stdout",
     "output_type": "stream",
     "text": [
      "<class 'pandas.core.frame.DataFrame'>\n",
      "RangeIndex: 12500 entries, 0 to 12499\n",
      "Data columns (total 6 columns):\n",
      " #   Column         Non-Null Count  Dtype \n",
      "---  ------         --------------  ----- \n",
      " 0   Customer_ID    12500 non-null  object\n",
      " 1   Name           12500 non-null  object\n",
      " 2   Age            12500 non-null  int64 \n",
      " 3   SSN            12500 non-null  object\n",
      " 4   Occupation     12500 non-null  object\n",
      " 5   snapshot_date  12500 non-null  object\n",
      "dtypes: int64(1), object(5)\n",
      "memory usage: 586.1+ KB\n"
     ]
    }
   ],
   "source": [
    "df.info()"
   ]
  },
  {
   "cell_type": "code",
   "execution_count": 8,
   "id": "5f0263c8-469e-466f-8a7a-5bae3fc8ee0f",
   "metadata": {},
   "outputs": [],
   "source": [
    "# SSN\n",
    "import re\n",
    "# Regex pattern for valid SSNs\n",
    "ssn_pattern = re.compile(r'^\\d{3}-\\d{2}-\\d{4}$')\n",
    "# Replace invalid SSNs with the string \"none\"\n",
    "df['SSN'] = df['SSN'].apply(lambda x: x if ssn_pattern.match(str(x)) else \"Unknown\")"
   ]
  },
  {
   "cell_type": "code",
   "execution_count": 9,
   "id": "6a69a3bb-dbd2-4d13-9c65-9ce16690b6d8",
   "metadata": {},
   "outputs": [
    {
     "data": {
      "text/html": [
       "<div>\n",
       "<style scoped>\n",
       "    .dataframe tbody tr th:only-of-type {\n",
       "        vertical-align: middle;\n",
       "    }\n",
       "\n",
       "    .dataframe tbody tr th {\n",
       "        vertical-align: top;\n",
       "    }\n",
       "\n",
       "    .dataframe thead th {\n",
       "        text-align: right;\n",
       "    }\n",
       "</style>\n",
       "<table border=\"1\" class=\"dataframe\">\n",
       "  <thead>\n",
       "    <tr style=\"text-align: right;\">\n",
       "      <th></th>\n",
       "      <th>Customer_ID</th>\n",
       "      <th>Name</th>\n",
       "      <th>Age</th>\n",
       "      <th>SSN</th>\n",
       "      <th>Occupation</th>\n",
       "      <th>snapshot_date</th>\n",
       "    </tr>\n",
       "  </thead>\n",
       "  <tbody>\n",
       "    <tr>\n",
       "      <th>0</th>\n",
       "      <td>CUS_0x1000</td>\n",
       "      <td>Alistair Barrf</td>\n",
       "      <td>18</td>\n",
       "      <td>913-74-1218</td>\n",
       "      <td>Lawyer</td>\n",
       "      <td>2023-05-01</td>\n",
       "    </tr>\n",
       "    <tr>\n",
       "      <th>1</th>\n",
       "      <td>CUS_0x1009</td>\n",
       "      <td>Arunah</td>\n",
       "      <td>26</td>\n",
       "      <td>063-67-6938</td>\n",
       "      <td>Mechanic</td>\n",
       "      <td>2025-01-01</td>\n",
       "    </tr>\n",
       "    <tr>\n",
       "      <th>2</th>\n",
       "      <td>CUS_0x100b</td>\n",
       "      <td>Shirboni</td>\n",
       "      <td>19</td>\n",
       "      <td>Unknown</td>\n",
       "      <td>Media_Manager</td>\n",
       "      <td>2024-03-01</td>\n",
       "    </tr>\n",
       "    <tr>\n",
       "      <th>3</th>\n",
       "      <td>CUS_0x1011</td>\n",
       "      <td>Schneyerh</td>\n",
       "      <td>44</td>\n",
       "      <td>793-05-8223</td>\n",
       "      <td>Doctor</td>\n",
       "      <td>2023-11-01</td>\n",
       "    </tr>\n",
       "    <tr>\n",
       "      <th>4</th>\n",
       "      <td>CUS_0x1013</td>\n",
       "      <td>Cameront</td>\n",
       "      <td>44</td>\n",
       "      <td>930-49-9615</td>\n",
       "      <td>Mechanic</td>\n",
       "      <td>2023-12-01</td>\n",
       "    </tr>\n",
       "  </tbody>\n",
       "</table>\n",
       "</div>"
      ],
      "text/plain": [
       "  Customer_ID            Name  Age          SSN     Occupation snapshot_date\n",
       "0  CUS_0x1000  Alistair Barrf   18  913-74-1218         Lawyer    2023-05-01\n",
       "1  CUS_0x1009          Arunah   26  063-67-6938       Mechanic    2025-01-01\n",
       "2  CUS_0x100b        Shirboni   19      Unknown  Media_Manager    2024-03-01\n",
       "3  CUS_0x1011       Schneyerh   44  793-05-8223         Doctor    2023-11-01\n",
       "4  CUS_0x1013        Cameront   44  930-49-9615       Mechanic    2023-12-01"
      ]
     },
     "execution_count": 9,
     "metadata": {},
     "output_type": "execute_result"
    }
   ],
   "source": [
    "df.head()"
   ]
  },
  {
   "cell_type": "code",
   "execution_count": 10,
   "id": "ee5a6bce-0597-4748-a22d-ac90a020d01d",
   "metadata": {},
   "outputs": [],
   "source": [
    "# Occupation\n",
    "df['Occupation'] = df['Occupation'].replace('_______', 'Unemployed')"
   ]
  },
  {
   "cell_type": "code",
   "execution_count": 11,
   "id": "77ae90cb-aa2f-4907-a7dd-7dcc08b451c7",
   "metadata": {},
   "outputs": [
    {
     "data": {
      "text/html": [
       "<div>\n",
       "<style scoped>\n",
       "    .dataframe tbody tr th:only-of-type {\n",
       "        vertical-align: middle;\n",
       "    }\n",
       "\n",
       "    .dataframe tbody tr th {\n",
       "        vertical-align: top;\n",
       "    }\n",
       "\n",
       "    .dataframe thead th {\n",
       "        text-align: right;\n",
       "    }\n",
       "</style>\n",
       "<table border=\"1\" class=\"dataframe\">\n",
       "  <thead>\n",
       "    <tr style=\"text-align: right;\">\n",
       "      <th></th>\n",
       "      <th>Customer_ID</th>\n",
       "      <th>Name</th>\n",
       "      <th>Age</th>\n",
       "      <th>SSN</th>\n",
       "      <th>Occupation</th>\n",
       "      <th>snapshot_date</th>\n",
       "    </tr>\n",
       "  </thead>\n",
       "  <tbody>\n",
       "    <tr>\n",
       "      <th>0</th>\n",
       "      <td>CUS_0x1000</td>\n",
       "      <td>Alistair Barrf</td>\n",
       "      <td>18</td>\n",
       "      <td>913-74-1218</td>\n",
       "      <td>Lawyer</td>\n",
       "      <td>2023-05-01</td>\n",
       "    </tr>\n",
       "    <tr>\n",
       "      <th>1</th>\n",
       "      <td>CUS_0x1009</td>\n",
       "      <td>Arunah</td>\n",
       "      <td>26</td>\n",
       "      <td>063-67-6938</td>\n",
       "      <td>Mechanic</td>\n",
       "      <td>2025-01-01</td>\n",
       "    </tr>\n",
       "    <tr>\n",
       "      <th>2</th>\n",
       "      <td>CUS_0x100b</td>\n",
       "      <td>Shirboni</td>\n",
       "      <td>19</td>\n",
       "      <td>Unknown</td>\n",
       "      <td>Media_Manager</td>\n",
       "      <td>2024-03-01</td>\n",
       "    </tr>\n",
       "    <tr>\n",
       "      <th>3</th>\n",
       "      <td>CUS_0x1011</td>\n",
       "      <td>Schneyerh</td>\n",
       "      <td>44</td>\n",
       "      <td>793-05-8223</td>\n",
       "      <td>Doctor</td>\n",
       "      <td>2023-11-01</td>\n",
       "    </tr>\n",
       "    <tr>\n",
       "      <th>4</th>\n",
       "      <td>CUS_0x1013</td>\n",
       "      <td>Cameront</td>\n",
       "      <td>44</td>\n",
       "      <td>930-49-9615</td>\n",
       "      <td>Mechanic</td>\n",
       "      <td>2023-12-01</td>\n",
       "    </tr>\n",
       "  </tbody>\n",
       "</table>\n",
       "</div>"
      ],
      "text/plain": [
       "  Customer_ID            Name  Age          SSN     Occupation snapshot_date\n",
       "0  CUS_0x1000  Alistair Barrf   18  913-74-1218         Lawyer    2023-05-01\n",
       "1  CUS_0x1009          Arunah   26  063-67-6938       Mechanic    2025-01-01\n",
       "2  CUS_0x100b        Shirboni   19      Unknown  Media_Manager    2024-03-01\n",
       "3  CUS_0x1011       Schneyerh   44  793-05-8223         Doctor    2023-11-01\n",
       "4  CUS_0x1013        Cameront   44  930-49-9615       Mechanic    2023-12-01"
      ]
     },
     "execution_count": 11,
     "metadata": {},
     "output_type": "execute_result"
    }
   ],
   "source": [
    "df.head()"
   ]
  },
  {
   "cell_type": "code",
   "execution_count": 12,
   "id": "7e76204e-f988-436b-8685-10428669d38b",
   "metadata": {},
   "outputs": [
    {
     "name": "stdout",
     "output_type": "stream",
     "text": [
      "<class 'pandas.core.frame.DataFrame'>\n",
      "RangeIndex: 12500 entries, 0 to 12499\n",
      "Data columns (total 6 columns):\n",
      " #   Column         Non-Null Count  Dtype \n",
      "---  ------         --------------  ----- \n",
      " 0   Customer_ID    12500 non-null  object\n",
      " 1   Name           12500 non-null  object\n",
      " 2   Age            12500 non-null  int64 \n",
      " 3   SSN            12500 non-null  object\n",
      " 4   Occupation     12500 non-null  object\n",
      " 5   snapshot_date  12500 non-null  object\n",
      "dtypes: int64(1), object(5)\n",
      "memory usage: 586.1+ KB\n"
     ]
    }
   ],
   "source": [
    "df.info()"
   ]
  },
  {
   "cell_type": "code",
   "execution_count": null,
   "id": "fbdaa07d-1f8c-4b79-a9c0-8d4ce17434bc",
   "metadata": {},
   "outputs": [],
   "source": []
  }
 ],
 "metadata": {
  "kernelspec": {
   "display_name": "Python 3 (ipykernel)",
   "language": "python",
   "name": "python3"
  },
  "language_info": {
   "codemirror_mode": {
    "name": "ipython",
    "version": 3
   },
   "file_extension": ".py",
   "mimetype": "text/x-python",
   "name": "python",
   "nbconvert_exporter": "python",
   "pygments_lexer": "ipython3",
   "version": "3.12.10"
  }
 },
 "nbformat": 4,
 "nbformat_minor": 5
}
